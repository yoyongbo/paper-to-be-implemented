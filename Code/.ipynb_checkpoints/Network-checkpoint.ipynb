{
 "cells": [
  {
   "cell_type": "code",
   "execution_count": 19,
   "id": "53f5d037-f4e5-4ce2-a307-e2f5f38a4a99",
   "metadata": {},
   "outputs": [],
   "source": [
    "import tensorflow as tf\n",
    "import tensorflow_addons as tfa\n",
    "from tensorflow.keras.optimizers import Adam\n",
    "from tensorflow.keras.initializers import RandomNormal\n",
    "from tensorflow.keras.models import Sequential\n",
    "from tensorflow.keras import layers, models\n",
    "from tensorflow.keras.layers import Dense, Dropout, Activation, Flatten, Input, Reshape,ReLU,LeakyReLU,Concatenate\n",
    "from tensorflow.keras.layers import Conv2D, MaxPooling2D,Conv2DTranspose, BatchNormalization\n",
    "from tensorflow_addons.layers import InstanceNormalization"
   ]
  },
  {
   "cell_type": "markdown",
   "id": "dad3629e-4f99-46f6-b5e2-be26644fc91d",
   "metadata": {},
   "source": [
    "## The network architecture is define as follow:"
   ]
  },
  {
   "cell_type": "markdown",
   "id": "f406179e-e02b-4ec7-b921-b0aa8faec80b",
   "metadata": {},
   "source": [
    "\n",
    "![;;\"](figs/networkArch.PNG \"ss\")"
   ]
  },
  {
   "cell_type": "code",
   "execution_count": 2,
   "id": "465dc18b-972e-40d6-9f84-ddf75c1d0b59",
   "metadata": {},
   "outputs": [],
   "source": [
    "# dk: 3 by 3 Convolution_InstanceNorm ReLu with k filter and stride of 2\n",
    "def d_block(input_tensor, k):\n",
    "    x = input_tensor\n",
    "    x = Conv2D(k, (3,3), strides=(2, 2))(x)\n",
    "    x = InstanceNormalization()(x)\n",
    "    x = ReLU()(x)\n",
    "    return x\n",
    "\n",
    "#uk: 3x3 Transposed Convolution with k filter and InstanceNorm with Relu\n",
    "def u_block(input_tensor, k):\n",
    "    x = input_tensor\n",
    "    x = Conv2DTranspose(k, (3,3))(x)\n",
    "    x = InstanceNormalization()(x)\n",
    "    x = ReLU()(x)\n",
    "    return x"
   ]
  },
  {
   "cell_type": "code",
   "execution_count": 3,
   "id": "f7c20904-bc18-4107-bb30-359e52fb36b9",
   "metadata": {},
   "outputs": [],
   "source": [
    "# Rk denotes a pre-activation residual block with k filters\n",
    "# The structure of a pre-activation residual block showing below.\n",
    "def R_block(input_tensor,n_filters,stage):\n",
    "    '''if stage>1: # first activation is just after conv1        \n",
    "        x = layers.BatchNormalization()(input_tensor)        \n",
    "        x = layers.Activation('relu')(x)    \n",
    "    else:       '''\n",
    "    x = input_tensor\n",
    "    x = Conv2D(n_filters,(1,1))(x)\n",
    "    x = BatchNormalization()(x)\n",
    "    x = ReLU()(x)\n",
    "    x = Conv2D(n_filters,(1,1))(x)\n",
    "    x = BatchNormalization()(x)\n",
    "    x = ReLU()(x)\n",
    "    x = Conv2D(n_filters,(1,1))(x)\n",
    "    # define short cut\n",
    "    x = layers.add([x, input_tensor])\n",
    "    return x\n",
    "\n"
   ]
  },
  {
   "cell_type": "markdown",
   "id": "81a3e5e9-a7f6-4c35-bcb3-adce4bab3b40",
   "metadata": {
    "jupyter": {
     "source_hidden": true
    },
    "tags": []
   },
   "source": [
    "## Pre-Activative Residual blocks\n",
    "![\"pre_activative_resBlock\"](figs/pre_activative_resBlock.png \"pre_activative_resBlock\")"
   ]
  },
  {
   "cell_type": "code",
   "execution_count": 4,
   "id": "0f4e88d2-ee41-4c5f-8724-fcb5537adc02",
   "metadata": {
    "tags": []
   },
   "outputs": [],
   "source": [
    "'''c7s1-64, d128, d256, d512, R512, R512, R512, R512, R512, R512, R512, R512, R512, u256, u128,\n",
    "u64, c7s1-8.'''\n",
    "# The GeneratorModel\n",
    "def Generator(input_shape=(512,512,3), nb_classes=4):\n",
    "    img_input = tf.keras.layers.Input(shape=input_shape)\n",
    "    #c7s1-64/\n",
    "    x = Conv2D(64, (7,7),strides=(1, 1))(img_input)\n",
    "    #d128, d256, d512\n",
    "    x = d_block(x,128)\n",
    "    x = d_block(x, 256)\n",
    "    x = d_block(x, 512)\n",
    "    # R512, R512, R512, R512, R512, R512, R512, R512, R512\n",
    "    for i in range(1,10):\n",
    "        x = R_block(x, 512,i)\n",
    "    #u256, u128,u64\n",
    "  \n",
    "    x = u_block(x, 256)\n",
    "    \n",
    "    x = u_block(x, 128)\n",
    "\n",
    "    x = u_block(x, 64)\n",
    "    #c7s1-8\n",
    "    x = Conv2D(8, (7,7),strides=(1, 1))(x)\n",
    "    return models.Model(img_input, x, name='rnpa')"
   ]
  },
  {
   "cell_type": "code",
   "execution_count": 2,
   "id": "a944bcb5-7263-491d-85ba-2a4af6f6b484",
   "metadata": {
    "tags": []
   },
   "outputs": [
    {
     "data": {
      "text/plain": [
       "'model = Generator()\\nmodel.summary()'"
      ]
     },
     "execution_count": 2,
     "metadata": {},
     "output_type": "execute_result"
    }
   ],
   "source": [
    "model = Generator()\n",
    "model.summary()\n"
   ]
  },
  {
   "cell_type": "markdown",
   "id": "80e32f6e-6375-49bc-b964-23b4d50d7f93",
   "metadata": {},
   "source": [
    "## The Discriminator\n",
    "![](figs/Dis.png)"
   ]
  },
  {
   "cell_type": "code",
   "execution_count": 21,
   "id": "91a6d07f-635b-4d50-ac53-be3a8e027198",
   "metadata": {
    "tags": []
   },
   "outputs": [],
   "source": [
    "def Discriminator(img_shape):\n",
    "    # weight initialization\n",
    "    init = RandomNormal(stddev=0.02)\n",
    "    # source image input\n",
    "    in_src_image = Input(shape=img_shape)\n",
    "    # target image input\n",
    "    in_target_image = Input(shape=img_shape)\n",
    "    merged = Concatenate()([in_src_image, in_target_image])\n",
    "    \n",
    "    d = Conv2D(64, (4,4), strides=(2,2), padding='same', kernel_initializer=init)(merged)\n",
    "    d = LeakyReLU(alpha=0.2)(d)\n",
    "    # C128\n",
    "    d = Conv2D(128, (4,4), strides=(2,2), padding='same', kernel_initializer=init)(d)\n",
    "    d = InstanceNormalization()(d)\n",
    "    d = LeakyReLU(alpha=0.2)(d)\n",
    "    # C256\n",
    "    d = Conv2D(256, (4,4), strides=(2,2), padding='same', kernel_initializer=init)(d)\n",
    "    d = InstanceNormalization()(d)\n",
    "    d = LeakyReLU(alpha=0.2)(d)\n",
    "    # C512\n",
    "    d = Conv2D(512, (4,4), strides=(2,2), padding='same', kernel_initializer=init)(d)\n",
    "    d = InstanceNormalization()(d)\n",
    "    d = LeakyReLU(alpha=0.2)(d)\n",
    "    # second last output layer\n",
    "    d = Conv2D(512, (4,4), padding='same', kernel_initializer=init)(d)\n",
    "    d = InstanceNormalization()(d)\n",
    "    d = LeakyReLU(alpha=0.2)(d)\n",
    "    # patch output\n",
    "    d = Conv2D(1, (4,4), padding='same', kernel_initializer=init)(d)\n",
    "    patch_out = Activation('sigmoid')(d)\n",
    "    # define model\n",
    "    model = models.Model([in_src_image, in_target_image], patch_out)\n",
    "    # compile model\n",
    "    opt = Adam(learning_rate=0.0002, beta_1=0.5)\n",
    "    model.compile(loss='binary_crossentropy', optimizer=opt, loss_weights=[0.5])\n",
    "    return model"
   ]
  },
  {
   "cell_type": "code",
   "execution_count": 22,
   "id": "8218c10f-897b-434c-9783-e3758958cd13",
   "metadata": {
    "collapsed": true,
    "jupyter": {
     "outputs_hidden": true
    },
    "tags": []
   },
   "outputs": [
    {
     "name": "stdout",
     "output_type": "stream",
     "text": [
      "Model: \"model_2\"\n",
      "__________________________________________________________________________________________________\n",
      "Layer (type)                    Output Shape         Param #     Connected to                     \n",
      "==================================================================================================\n",
      "input_11 (InputLayer)           [(None, 512, 512, 3) 0                                            \n",
      "__________________________________________________________________________________________________\n",
      "input_12 (InputLayer)           [(None, 512, 512, 3) 0                                            \n",
      "__________________________________________________________________________________________________\n",
      "concatenate_4 (Concatenate)     (None, 512, 512, 6)  0           input_11[0][0]                   \n",
      "                                                                 input_12[0][0]                   \n",
      "__________________________________________________________________________________________________\n",
      "conv2d_20 (Conv2D)              (None, 256, 256, 64) 6208        concatenate_4[0][0]              \n",
      "__________________________________________________________________________________________________\n",
      "leaky_re_lu_16 (LeakyReLU)      (None, 256, 256, 64) 0           conv2d_20[0][0]                  \n",
      "__________________________________________________________________________________________________\n",
      "conv2d_21 (Conv2D)              (None, 128, 128, 128 131200      leaky_re_lu_16[0][0]             \n",
      "__________________________________________________________________________________________________\n",
      "instance_normalization_12 (Inst (None, 128, 128, 128 256         conv2d_21[0][0]                  \n",
      "__________________________________________________________________________________________________\n",
      "leaky_re_lu_17 (LeakyReLU)      (None, 128, 128, 128 0           instance_normalization_12[0][0]  \n",
      "__________________________________________________________________________________________________\n",
      "conv2d_22 (Conv2D)              (None, 64, 64, 256)  524544      leaky_re_lu_17[0][0]             \n",
      "__________________________________________________________________________________________________\n",
      "instance_normalization_13 (Inst (None, 64, 64, 256)  512         conv2d_22[0][0]                  \n",
      "__________________________________________________________________________________________________\n",
      "leaky_re_lu_18 (LeakyReLU)      (None, 64, 64, 256)  0           instance_normalization_13[0][0]  \n",
      "__________________________________________________________________________________________________\n",
      "conv2d_23 (Conv2D)              (None, 32, 32, 512)  2097664     leaky_re_lu_18[0][0]             \n",
      "__________________________________________________________________________________________________\n",
      "instance_normalization_14 (Inst (None, 32, 32, 512)  1024        conv2d_23[0][0]                  \n",
      "__________________________________________________________________________________________________\n",
      "leaky_re_lu_19 (LeakyReLU)      (None, 32, 32, 512)  0           instance_normalization_14[0][0]  \n",
      "__________________________________________________________________________________________________\n",
      "conv2d_24 (Conv2D)              (None, 32, 32, 512)  4194816     leaky_re_lu_19[0][0]             \n",
      "__________________________________________________________________________________________________\n",
      "instance_normalization_15 (Inst (None, 32, 32, 512)  1024        conv2d_24[0][0]                  \n",
      "__________________________________________________________________________________________________\n",
      "leaky_re_lu_20 (LeakyReLU)      (None, 32, 32, 512)  0           instance_normalization_15[0][0]  \n",
      "__________________________________________________________________________________________________\n",
      "conv2d_25 (Conv2D)              (None, 32, 32, 1)    8193        leaky_re_lu_20[0][0]             \n",
      "__________________________________________________________________________________________________\n",
      "activation_3 (Activation)       (None, 32, 32, 1)    0           conv2d_25[0][0]                  \n",
      "==================================================================================================\n",
      "Total params: 6,965,441\n",
      "Trainable params: 6,965,441\n",
      "Non-trainable params: 0\n",
      "__________________________________________________________________________________________________\n"
     ]
    }
   ],
   "source": [
    "imge_shape = (512,512,3)\n",
    "model = Discriminator(imge_shape)\n",
    "model.summary()"
   ]
  },
  {
   "cell_type": "code",
   "execution_count": null,
   "id": "cfdd20a0-2ab8-420a-9607-4553a279e250",
   "metadata": {
    "tags": []
   },
   "outputs": [],
   "source": []
  }
 ],
 "metadata": {
  "kernelspec": {
   "display_name": "Python 3 (ipykernel)",
   "language": "python",
   "name": "python3"
  },
  "language_info": {
   "codemirror_mode": {
    "name": "ipython",
    "version": 3
   },
   "file_extension": ".py",
   "mimetype": "text/x-python",
   "name": "python",
   "nbconvert_exporter": "python",
   "pygments_lexer": "ipython3",
   "version": "3.8.8"
  }
 },
 "nbformat": 4,
 "nbformat_minor": 5
}
